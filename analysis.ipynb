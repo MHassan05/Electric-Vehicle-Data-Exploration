{
 "cells": [
  {
   "cell_type": "markdown",
   "id": "09fc1d43",
   "metadata": {},
   "source": [
    "# Electric Vehicle Specifications Analysis (2025)\n",
    "\n",
    "## Introduction\n",
    "\n",
    "The shift toward electric vehicles (EVs) is transforming the global automotive industry. This notebook presents an analysis of the **Electric Vehicle Specifications Dataset (2025)**, published by [Urvish Ahir](https://www.kaggle.com/urvishahir) on Kaggle.\n",
    "\n",
    "This dataset includes technical specifications of a wide range of EVs, such as:\n",
    "\n",
    "- Brand and Model\n",
    "- Battery Capacity\n",
    "- Electric Range\n",
    "- Charging Speed\n",
    "- Top Speed\n",
    "- Acceleration (0–100 km/h)\n",
    "- Price\n",
    "\n",
    "> **Dataset Source:**  \n",
    "> [Kaggle - Electric Vehicle Specifications Dataset 2025](https://www.kaggle.com/datasets/urvishahir/electric-vehicle-specifications-dataset-2025)\n"
   ]
  },
  {
   "cell_type": "markdown",
   "id": "cc5d1a07",
   "metadata": {},
   "source": [
    "##  Dataset Overview\n",
    "\n",
    "In this section, we will:\n",
    "- Import necessary libraries\n",
    "- Load the dataset\n",
    "- View its structure and basic information\n"
   ]
  },
  {
   "cell_type": "markdown",
   "id": "207b9331",
   "metadata": {},
   "source": [
    "### Import necessary libraries"
   ]
  },
  {
   "cell_type": "code",
   "execution_count": 21,
   "id": "58f640c6",
   "metadata": {},
   "outputs": [
    {
     "name": "stdout",
     "output_type": "stream",
     "text": [
      "The autoreload extension is already loaded. To reload it, use:\n",
      "  %reload_ext autoreload\n"
     ]
    }
   ],
   "source": [
    "import numpy as np \n",
    "import pandas as pd \n",
    "import matplotlib.pyplot as plt\n",
    "\n",
    "# Show plots inline in Jupyter Notebook\n",
    "%matplotlib inline\n",
    "\n",
    "#Auto reloads notebook when changes are made\n",
    "%load_ext autoreload\n",
    "%autoreload 2"
   ]
  },
  {
   "cell_type": "markdown",
   "id": "776e8c47",
   "metadata": {},
   "source": [
    "### Load the dataset"
   ]
  },
  {
   "cell_type": "code",
   "execution_count": 22,
   "id": "183af7f0",
   "metadata": {},
   "outputs": [],
   "source": [
    "df = pd.read_csv('electric_vehicles_spec_2025.csv')"
   ]
  },
  {
   "cell_type": "markdown",
   "id": "2f2d7307",
   "metadata": {},
   "source": [
    "### Preview Dataset"
   ]
  },
  {
   "cell_type": "code",
   "execution_count": 23,
   "id": "5abb23cf",
   "metadata": {},
   "outputs": [
    {
     "data": {
      "text/html": [
       "<div>\n",
       "<style scoped>\n",
       "    .dataframe tbody tr th:only-of-type {\n",
       "        vertical-align: middle;\n",
       "    }\n",
       "\n",
       "    .dataframe tbody tr th {\n",
       "        vertical-align: top;\n",
       "    }\n",
       "\n",
       "    .dataframe thead th {\n",
       "        text-align: right;\n",
       "    }\n",
       "</style>\n",
       "<table border=\"1\" class=\"dataframe\">\n",
       "  <thead>\n",
       "    <tr style=\"text-align: right;\">\n",
       "      <th></th>\n",
       "      <th>brand</th>\n",
       "      <th>model</th>\n",
       "      <th>top_speed_kmh</th>\n",
       "      <th>battery_capacity_kWh</th>\n",
       "      <th>battery_type</th>\n",
       "      <th>number_of_cells</th>\n",
       "      <th>torque_nm</th>\n",
       "      <th>efficiency_wh_per_km</th>\n",
       "      <th>range_km</th>\n",
       "      <th>acceleration_0_100_s</th>\n",
       "      <th>...</th>\n",
       "      <th>towing_capacity_kg</th>\n",
       "      <th>cargo_volume_l</th>\n",
       "      <th>seats</th>\n",
       "      <th>drivetrain</th>\n",
       "      <th>segment</th>\n",
       "      <th>length_mm</th>\n",
       "      <th>width_mm</th>\n",
       "      <th>height_mm</th>\n",
       "      <th>car_body_type</th>\n",
       "      <th>source_url</th>\n",
       "    </tr>\n",
       "  </thead>\n",
       "  <tbody>\n",
       "    <tr>\n",
       "      <th>0</th>\n",
       "      <td>Abarth</td>\n",
       "      <td>500e Convertible</td>\n",
       "      <td>155</td>\n",
       "      <td>37.8</td>\n",
       "      <td>Lithium-ion</td>\n",
       "      <td>192.0</td>\n",
       "      <td>235.0</td>\n",
       "      <td>156</td>\n",
       "      <td>225</td>\n",
       "      <td>7.0</td>\n",
       "      <td>...</td>\n",
       "      <td>0.0</td>\n",
       "      <td>185</td>\n",
       "      <td>4</td>\n",
       "      <td>FWD</td>\n",
       "      <td>B - Compact</td>\n",
       "      <td>3673</td>\n",
       "      <td>1683</td>\n",
       "      <td>1518</td>\n",
       "      <td>Hatchback</td>\n",
       "      <td>https://ev-database.org/car/1904/Abarth-500e-C...</td>\n",
       "    </tr>\n",
       "    <tr>\n",
       "      <th>1</th>\n",
       "      <td>Abarth</td>\n",
       "      <td>500e Hatchback</td>\n",
       "      <td>155</td>\n",
       "      <td>37.8</td>\n",
       "      <td>Lithium-ion</td>\n",
       "      <td>192.0</td>\n",
       "      <td>235.0</td>\n",
       "      <td>149</td>\n",
       "      <td>225</td>\n",
       "      <td>7.0</td>\n",
       "      <td>...</td>\n",
       "      <td>0.0</td>\n",
       "      <td>185</td>\n",
       "      <td>4</td>\n",
       "      <td>FWD</td>\n",
       "      <td>B - Compact</td>\n",
       "      <td>3673</td>\n",
       "      <td>1683</td>\n",
       "      <td>1518</td>\n",
       "      <td>Hatchback</td>\n",
       "      <td>https://ev-database.org/car/1903/Abarth-500e-H...</td>\n",
       "    </tr>\n",
       "    <tr>\n",
       "      <th>2</th>\n",
       "      <td>Abarth</td>\n",
       "      <td>600e Scorpionissima</td>\n",
       "      <td>200</td>\n",
       "      <td>50.8</td>\n",
       "      <td>Lithium-ion</td>\n",
       "      <td>102.0</td>\n",
       "      <td>345.0</td>\n",
       "      <td>158</td>\n",
       "      <td>280</td>\n",
       "      <td>5.9</td>\n",
       "      <td>...</td>\n",
       "      <td>0.0</td>\n",
       "      <td>360</td>\n",
       "      <td>5</td>\n",
       "      <td>FWD</td>\n",
       "      <td>JB - Compact</td>\n",
       "      <td>4187</td>\n",
       "      <td>1779</td>\n",
       "      <td>1557</td>\n",
       "      <td>SUV</td>\n",
       "      <td>https://ev-database.org/car/3057/Abarth-600e-S...</td>\n",
       "    </tr>\n",
       "    <tr>\n",
       "      <th>3</th>\n",
       "      <td>Abarth</td>\n",
       "      <td>600e Turismo</td>\n",
       "      <td>200</td>\n",
       "      <td>50.8</td>\n",
       "      <td>Lithium-ion</td>\n",
       "      <td>102.0</td>\n",
       "      <td>345.0</td>\n",
       "      <td>158</td>\n",
       "      <td>280</td>\n",
       "      <td>6.2</td>\n",
       "      <td>...</td>\n",
       "      <td>0.0</td>\n",
       "      <td>360</td>\n",
       "      <td>5</td>\n",
       "      <td>FWD</td>\n",
       "      <td>JB - Compact</td>\n",
       "      <td>4187</td>\n",
       "      <td>1779</td>\n",
       "      <td>1557</td>\n",
       "      <td>SUV</td>\n",
       "      <td>https://ev-database.org/car/3056/Abarth-600e-T...</td>\n",
       "    </tr>\n",
       "    <tr>\n",
       "      <th>4</th>\n",
       "      <td>Aiways</td>\n",
       "      <td>U5</td>\n",
       "      <td>150</td>\n",
       "      <td>60.0</td>\n",
       "      <td>Lithium-ion</td>\n",
       "      <td>NaN</td>\n",
       "      <td>310.0</td>\n",
       "      <td>156</td>\n",
       "      <td>315</td>\n",
       "      <td>7.5</td>\n",
       "      <td>...</td>\n",
       "      <td>NaN</td>\n",
       "      <td>496</td>\n",
       "      <td>5</td>\n",
       "      <td>FWD</td>\n",
       "      <td>JC - Medium</td>\n",
       "      <td>4680</td>\n",
       "      <td>1865</td>\n",
       "      <td>1700</td>\n",
       "      <td>SUV</td>\n",
       "      <td>https://ev-database.org/car/1678/Aiways-U5</td>\n",
       "    </tr>\n",
       "  </tbody>\n",
       "</table>\n",
       "<p>5 rows × 22 columns</p>\n",
       "</div>"
      ],
      "text/plain": [
       "    brand                model  top_speed_kmh  battery_capacity_kWh  \\\n",
       "0  Abarth     500e Convertible            155                  37.8   \n",
       "1  Abarth       500e Hatchback            155                  37.8   \n",
       "2  Abarth  600e Scorpionissima            200                  50.8   \n",
       "3  Abarth         600e Turismo            200                  50.8   \n",
       "4  Aiways                   U5            150                  60.0   \n",
       "\n",
       "  battery_type  number_of_cells  torque_nm  efficiency_wh_per_km  range_km  \\\n",
       "0  Lithium-ion            192.0      235.0                   156       225   \n",
       "1  Lithium-ion            192.0      235.0                   149       225   \n",
       "2  Lithium-ion            102.0      345.0                   158       280   \n",
       "3  Lithium-ion            102.0      345.0                   158       280   \n",
       "4  Lithium-ion              NaN      310.0                   156       315   \n",
       "\n",
       "   acceleration_0_100_s  ...  towing_capacity_kg cargo_volume_l  seats  \\\n",
       "0                   7.0  ...                 0.0            185      4   \n",
       "1                   7.0  ...                 0.0            185      4   \n",
       "2                   5.9  ...                 0.0            360      5   \n",
       "3                   6.2  ...                 0.0            360      5   \n",
       "4                   7.5  ...                 NaN            496      5   \n",
       "\n",
       "  drivetrain       segment length_mm width_mm  height_mm  car_body_type  \\\n",
       "0        FWD   B - Compact      3673     1683       1518      Hatchback   \n",
       "1        FWD   B - Compact      3673     1683       1518      Hatchback   \n",
       "2        FWD  JB - Compact      4187     1779       1557            SUV   \n",
       "3        FWD  JB - Compact      4187     1779       1557            SUV   \n",
       "4        FWD   JC - Medium      4680     1865       1700            SUV   \n",
       "\n",
       "                                          source_url  \n",
       "0  https://ev-database.org/car/1904/Abarth-500e-C...  \n",
       "1  https://ev-database.org/car/1903/Abarth-500e-H...  \n",
       "2  https://ev-database.org/car/3057/Abarth-600e-S...  \n",
       "3  https://ev-database.org/car/3056/Abarth-600e-T...  \n",
       "4         https://ev-database.org/car/1678/Aiways-U5  \n",
       "\n",
       "[5 rows x 22 columns]"
      ]
     },
     "execution_count": 23,
     "metadata": {},
     "output_type": "execute_result"
    }
   ],
   "source": [
    "df.head() "
   ]
  },
  {
   "cell_type": "markdown",
   "id": "27a7f900",
   "metadata": {},
   "source": [
    "### Dataset Dimensions"
   ]
  },
  {
   "cell_type": "code",
   "execution_count": 24,
   "id": "03750df4",
   "metadata": {},
   "outputs": [
    {
     "name": "stdout",
     "output_type": "stream",
     "text": [
      "Dataset contains 478 rows and 22 columns.\n"
     ]
    }
   ],
   "source": [
    "print(f\"Dataset contains {df.shape[0]} rows and {df.shape[1]} columns.\")"
   ]
  },
  {
   "cell_type": "markdown",
   "id": "f046a5b7",
   "metadata": {},
   "source": [
    "### Dataset Column Names"
   ]
  },
  {
   "cell_type": "code",
   "execution_count": 25,
   "id": "f2afadfd",
   "metadata": {},
   "outputs": [
    {
     "data": {
      "text/plain": [
       "['brand',\n",
       " 'model',\n",
       " 'top_speed_kmh',\n",
       " 'battery_capacity_kWh',\n",
       " 'battery_type',\n",
       " 'number_of_cells',\n",
       " 'torque_nm',\n",
       " 'efficiency_wh_per_km',\n",
       " 'range_km',\n",
       " 'acceleration_0_100_s',\n",
       " 'fast_charging_power_kw_dc',\n",
       " 'fast_charge_port',\n",
       " 'towing_capacity_kg',\n",
       " 'cargo_volume_l',\n",
       " 'seats',\n",
       " 'drivetrain',\n",
       " 'segment',\n",
       " 'length_mm',\n",
       " 'width_mm',\n",
       " 'height_mm',\n",
       " 'car_body_type',\n",
       " 'source_url']"
      ]
     },
     "execution_count": 25,
     "metadata": {},
     "output_type": "execute_result"
    }
   ],
   "source": [
    "df.columns.tolist()"
   ]
  },
  {
   "cell_type": "markdown",
   "id": "bfb0e4ce",
   "metadata": {},
   "source": [
    "### Data Types & Missing Values"
   ]
  },
  {
   "cell_type": "code",
   "execution_count": 26,
   "id": "aa768dd7",
   "metadata": {},
   "outputs": [
    {
     "name": "stdout",
     "output_type": "stream",
     "text": [
      "<class 'pandas.core.frame.DataFrame'>\n",
      "RangeIndex: 478 entries, 0 to 477\n",
      "Data columns (total 22 columns):\n",
      " #   Column                     Non-Null Count  Dtype  \n",
      "---  ------                     --------------  -----  \n",
      " 0   brand                      478 non-null    object \n",
      " 1   model                      477 non-null    object \n",
      " 2   top_speed_kmh              478 non-null    int64  \n",
      " 3   battery_capacity_kWh       478 non-null    float64\n",
      " 4   battery_type               478 non-null    object \n",
      " 5   number_of_cells            276 non-null    float64\n",
      " 6   torque_nm                  471 non-null    float64\n",
      " 7   efficiency_wh_per_km       478 non-null    int64  \n",
      " 8   range_km                   478 non-null    int64  \n",
      " 9   acceleration_0_100_s       478 non-null    float64\n",
      " 10  fast_charging_power_kw_dc  477 non-null    float64\n",
      " 11  fast_charge_port           477 non-null    object \n",
      " 12  towing_capacity_kg         452 non-null    float64\n",
      " 13  cargo_volume_l             477 non-null    object \n",
      " 14  seats                      478 non-null    int64  \n",
      " 15  drivetrain                 478 non-null    object \n",
      " 16  segment                    478 non-null    object \n",
      " 17  length_mm                  478 non-null    int64  \n",
      " 18  width_mm                   478 non-null    int64  \n",
      " 19  height_mm                  478 non-null    int64  \n",
      " 20  car_body_type              478 non-null    object \n",
      " 21  source_url                 478 non-null    object \n",
      "dtypes: float64(6), int64(7), object(9)\n",
      "memory usage: 82.3+ KB\n"
     ]
    }
   ],
   "source": [
    "df.info()"
   ]
  },
  {
   "cell_type": "markdown",
   "id": "c1f4e517",
   "metadata": {},
   "source": [
    "### Descriptive Statistics"
   ]
  },
  {
   "cell_type": "code",
   "execution_count": 27,
   "id": "28754e77",
   "metadata": {},
   "outputs": [
    {
     "data": {
      "text/html": [
       "<div>\n",
       "<style scoped>\n",
       "    .dataframe tbody tr th:only-of-type {\n",
       "        vertical-align: middle;\n",
       "    }\n",
       "\n",
       "    .dataframe tbody tr th {\n",
       "        vertical-align: top;\n",
       "    }\n",
       "\n",
       "    .dataframe thead th {\n",
       "        text-align: right;\n",
       "    }\n",
       "</style>\n",
       "<table border=\"1\" class=\"dataframe\">\n",
       "  <thead>\n",
       "    <tr style=\"text-align: right;\">\n",
       "      <th></th>\n",
       "      <th>top_speed_kmh</th>\n",
       "      <th>battery_capacity_kWh</th>\n",
       "      <th>number_of_cells</th>\n",
       "      <th>torque_nm</th>\n",
       "      <th>efficiency_wh_per_km</th>\n",
       "      <th>range_km</th>\n",
       "      <th>acceleration_0_100_s</th>\n",
       "      <th>fast_charging_power_kw_dc</th>\n",
       "      <th>towing_capacity_kg</th>\n",
       "      <th>seats</th>\n",
       "      <th>length_mm</th>\n",
       "      <th>width_mm</th>\n",
       "      <th>height_mm</th>\n",
       "    </tr>\n",
       "  </thead>\n",
       "  <tbody>\n",
       "    <tr>\n",
       "      <th>count</th>\n",
       "      <td>478.000000</td>\n",
       "      <td>478.000000</td>\n",
       "      <td>276.000000</td>\n",
       "      <td>471.000000</td>\n",
       "      <td>478.000000</td>\n",
       "      <td>478.000000</td>\n",
       "      <td>478.000000</td>\n",
       "      <td>477.000000</td>\n",
       "      <td>452.000000</td>\n",
       "      <td>478.000000</td>\n",
       "      <td>478.000000</td>\n",
       "      <td>478.000000</td>\n",
       "      <td>478.000000</td>\n",
       "    </tr>\n",
       "    <tr>\n",
       "      <th>mean</th>\n",
       "      <td>185.487448</td>\n",
       "      <td>74.043724</td>\n",
       "      <td>485.293478</td>\n",
       "      <td>498.012739</td>\n",
       "      <td>162.903766</td>\n",
       "      <td>393.179916</td>\n",
       "      <td>6.882636</td>\n",
       "      <td>125.008386</td>\n",
       "      <td>1052.261062</td>\n",
       "      <td>5.263598</td>\n",
       "      <td>4678.506276</td>\n",
       "      <td>1887.359833</td>\n",
       "      <td>1601.125523</td>\n",
       "    </tr>\n",
       "    <tr>\n",
       "      <th>std</th>\n",
       "      <td>34.252773</td>\n",
       "      <td>20.331058</td>\n",
       "      <td>1210.819733</td>\n",
       "      <td>241.461128</td>\n",
       "      <td>34.317532</td>\n",
       "      <td>103.287335</td>\n",
       "      <td>2.730696</td>\n",
       "      <td>58.205012</td>\n",
       "      <td>737.851774</td>\n",
       "      <td>1.003961</td>\n",
       "      <td>369.210573</td>\n",
       "      <td>73.656807</td>\n",
       "      <td>130.754851</td>\n",
       "    </tr>\n",
       "    <tr>\n",
       "      <th>min</th>\n",
       "      <td>125.000000</td>\n",
       "      <td>21.300000</td>\n",
       "      <td>72.000000</td>\n",
       "      <td>113.000000</td>\n",
       "      <td>109.000000</td>\n",
       "      <td>135.000000</td>\n",
       "      <td>2.200000</td>\n",
       "      <td>29.000000</td>\n",
       "      <td>0.000000</td>\n",
       "      <td>2.000000</td>\n",
       "      <td>3620.000000</td>\n",
       "      <td>1610.000000</td>\n",
       "      <td>1329.000000</td>\n",
       "    </tr>\n",
       "    <tr>\n",
       "      <th>25%</th>\n",
       "      <td>160.000000</td>\n",
       "      <td>60.000000</td>\n",
       "      <td>150.000000</td>\n",
       "      <td>305.000000</td>\n",
       "      <td>143.000000</td>\n",
       "      <td>320.000000</td>\n",
       "      <td>4.800000</td>\n",
       "      <td>80.000000</td>\n",
       "      <td>500.000000</td>\n",
       "      <td>5.000000</td>\n",
       "      <td>4440.000000</td>\n",
       "      <td>1849.000000</td>\n",
       "      <td>1514.000000</td>\n",
       "    </tr>\n",
       "    <tr>\n",
       "      <th>50%</th>\n",
       "      <td>180.000000</td>\n",
       "      <td>76.150000</td>\n",
       "      <td>216.000000</td>\n",
       "      <td>430.000000</td>\n",
       "      <td>155.000000</td>\n",
       "      <td>397.500000</td>\n",
       "      <td>6.600000</td>\n",
       "      <td>113.000000</td>\n",
       "      <td>1000.000000</td>\n",
       "      <td>5.000000</td>\n",
       "      <td>4720.000000</td>\n",
       "      <td>1890.000000</td>\n",
       "      <td>1596.000000</td>\n",
       "    </tr>\n",
       "    <tr>\n",
       "      <th>75%</th>\n",
       "      <td>201.000000</td>\n",
       "      <td>90.600000</td>\n",
       "      <td>324.000000</td>\n",
       "      <td>679.000000</td>\n",
       "      <td>177.750000</td>\n",
       "      <td>470.000000</td>\n",
       "      <td>8.200000</td>\n",
       "      <td>150.000000</td>\n",
       "      <td>1600.000000</td>\n",
       "      <td>5.000000</td>\n",
       "      <td>4961.000000</td>\n",
       "      <td>1939.000000</td>\n",
       "      <td>1665.000000</td>\n",
       "    </tr>\n",
       "    <tr>\n",
       "      <th>max</th>\n",
       "      <td>325.000000</td>\n",
       "      <td>118.000000</td>\n",
       "      <td>7920.000000</td>\n",
       "      <td>1350.000000</td>\n",
       "      <td>370.000000</td>\n",
       "      <td>685.000000</td>\n",
       "      <td>19.100000</td>\n",
       "      <td>281.000000</td>\n",
       "      <td>2500.000000</td>\n",
       "      <td>9.000000</td>\n",
       "      <td>5908.000000</td>\n",
       "      <td>2080.000000</td>\n",
       "      <td>1986.000000</td>\n",
       "    </tr>\n",
       "  </tbody>\n",
       "</table>\n",
       "</div>"
      ],
      "text/plain": [
       "       top_speed_kmh  battery_capacity_kWh  number_of_cells    torque_nm  \\\n",
       "count     478.000000            478.000000       276.000000   471.000000   \n",
       "mean      185.487448             74.043724       485.293478   498.012739   \n",
       "std        34.252773             20.331058      1210.819733   241.461128   \n",
       "min       125.000000             21.300000        72.000000   113.000000   \n",
       "25%       160.000000             60.000000       150.000000   305.000000   \n",
       "50%       180.000000             76.150000       216.000000   430.000000   \n",
       "75%       201.000000             90.600000       324.000000   679.000000   \n",
       "max       325.000000            118.000000      7920.000000  1350.000000   \n",
       "\n",
       "       efficiency_wh_per_km    range_km  acceleration_0_100_s  \\\n",
       "count            478.000000  478.000000            478.000000   \n",
       "mean             162.903766  393.179916              6.882636   \n",
       "std               34.317532  103.287335              2.730696   \n",
       "min              109.000000  135.000000              2.200000   \n",
       "25%              143.000000  320.000000              4.800000   \n",
       "50%              155.000000  397.500000              6.600000   \n",
       "75%              177.750000  470.000000              8.200000   \n",
       "max              370.000000  685.000000             19.100000   \n",
       "\n",
       "       fast_charging_power_kw_dc  towing_capacity_kg       seats    length_mm  \\\n",
       "count                 477.000000          452.000000  478.000000   478.000000   \n",
       "mean                  125.008386         1052.261062    5.263598  4678.506276   \n",
       "std                    58.205012          737.851774    1.003961   369.210573   \n",
       "min                    29.000000            0.000000    2.000000  3620.000000   \n",
       "25%                    80.000000          500.000000    5.000000  4440.000000   \n",
       "50%                   113.000000         1000.000000    5.000000  4720.000000   \n",
       "75%                   150.000000         1600.000000    5.000000  4961.000000   \n",
       "max                   281.000000         2500.000000    9.000000  5908.000000   \n",
       "\n",
       "          width_mm    height_mm  \n",
       "count   478.000000   478.000000  \n",
       "mean   1887.359833  1601.125523  \n",
       "std      73.656807   130.754851  \n",
       "min    1610.000000  1329.000000  \n",
       "25%    1849.000000  1514.000000  \n",
       "50%    1890.000000  1596.000000  \n",
       "75%    1939.000000  1665.000000  \n",
       "max    2080.000000  1986.000000  "
      ]
     },
     "execution_count": 27,
     "metadata": {},
     "output_type": "execute_result"
    }
   ],
   "source": [
    "df.describe()"
   ]
  },
  {
   "cell_type": "markdown",
   "id": "f0a9cbbd",
   "metadata": {},
   "source": [
    "## Data Cleaning and Preprocessing"
   ]
  },
  {
   "cell_type": "markdown",
   "id": "4d144b39",
   "metadata": {},
   "source": [
    "#### 1. Handling Missing Values\n",
    "If you find missing values, you have following options: \n",
    "- Drop rows with missing values\n",
    "- Fill missing values with a specific value (e.g., mean, median, mode)\n"
   ]
  },
  {
   "cell_type": "code",
   "execution_count": 28,
   "id": "f1da37f2",
   "metadata": {},
   "outputs": [],
   "source": [
    "# Replacing empty strings with NaN \n",
    "df.replace(r'^\\s*$', pd.NA, regex=True, inplace=True)"
   ]
  },
  {
   "cell_type": "code",
   "execution_count": 29,
   "id": "7f105e86",
   "metadata": {},
   "outputs": [
    {
     "data": {
      "text/plain": [
       "brand                          0\n",
       "model                          1\n",
       "top_speed_kmh                  0\n",
       "battery_capacity_kWh           0\n",
       "battery_type                   0\n",
       "number_of_cells              202\n",
       "torque_nm                      7\n",
       "efficiency_wh_per_km           0\n",
       "range_km                       0\n",
       "acceleration_0_100_s           0\n",
       "fast_charging_power_kw_dc      1\n",
       "fast_charge_port               1\n",
       "towing_capacity_kg            26\n",
       "cargo_volume_l                 1\n",
       "seats                          0\n",
       "drivetrain                     0\n",
       "segment                        0\n",
       "length_mm                      0\n",
       "width_mm                       0\n",
       "height_mm                      0\n",
       "car_body_type                  0\n",
       "source_url                     0\n",
       "dtype: int64"
      ]
     },
     "execution_count": 29,
     "metadata": {},
     "output_type": "execute_result"
    }
   ],
   "source": [
    "# Checking for missing values \n",
    "df.isnull().sum()"
   ]
  },
  {
   "cell_type": "code",
   "execution_count": 30,
   "id": "22198a82",
   "metadata": {},
   "outputs": [],
   "source": [
    "# Drop row with missing 'model'\n",
    "df = df.dropna(subset=['model'])\n",
    "\n",
    "# Fill missing 'number_of_cells' with mean\n",
    "df['number_of_cells'] = df['number_of_cells'].fillna(df['number_of_cells'].mean())\n",
    "\n",
    "# = Fill missing 'torque_nm' with mean\n",
    "df['torque_nm'] = df['torque_nm'].fillna(df['torque_nm'].mean())\n",
    "\n",
    "# Fill missing 'fast_charging_power_kw_dc' with mean \n",
    "df['fast_charging_power_kw_dc'] = df['fast_charging_power_kw_dc'].fillna(df['fast_charging_power_kw_dc'].mean())\n",
    "\n",
    "# Fill missing 'fast_charge_port' with mode\n",
    "df['fast_charge_port'] = df['fast_charge_port'].fillna(df['fast_charge_port'].mode()[0])\n",
    "\n",
    "# Fill missing 'towing_capacity_kg' with mean\n",
    "df['towing_capacity_kg'] = df['towing_capacity_kg'].fillna(df['towing_capacity_kg'].mean())"
   ]
  },
  {
   "cell_type": "code",
   "execution_count": 31,
   "id": "ead72c96",
   "metadata": {},
   "outputs": [],
   "source": [
    "df['cargo_volume_l'] = df['cargo_volume_l'].astype(str)\n",
    "\n",
    "# Extract numeric values from 'cargo_volume_l'\n",
    "# \\d+ matches one or more digits, \n",
    "# \\.? matches an optional decimal point, \n",
    "# \\d* matches zero or more digits after the decimal point\n",
    "df['cargo_volume_l'] = df['cargo_volume_l'].str.extract(r'(\\d+\\.?\\d*)')\n",
    "\n",
    "# Convert 'cargo_volume_l' to numeric\n",
    "# coercing errors to NaN \n",
    "df['cargo_volume_l'] = pd.to_numeric(df['cargo_volume_l'], errors='coerce')\n",
    "\n",
    "# Fill missing 'cargo_volume_l' with median\n",
    "df['cargo_volume_l'] = df['cargo_volume_l'].fillna(df['cargo_volume_l'].median())"
   ]
  },
  {
   "cell_type": "markdown",
   "id": "88fab048",
   "metadata": {},
   "source": [
    "#### 2. Remove Duplicates"
   ]
  },
  {
   "cell_type": "code",
   "execution_count": 32,
   "id": "f7305afb",
   "metadata": {},
   "outputs": [
    {
     "data": {
      "text/plain": [
       "np.int64(0)"
      ]
     },
     "execution_count": 32,
     "metadata": {},
     "output_type": "execute_result"
    }
   ],
   "source": [
    "# Check for duplicates\n",
    "df.duplicated().sum()"
   ]
  },
  {
   "cell_type": "markdown",
   "id": "0102ebc0",
   "metadata": {},
   "source": [
    "Hence, there are no duplicates in the dataset.\n"
   ]
  },
  {
   "cell_type": "markdown",
   "id": "87ab6220",
   "metadata": {},
   "source": [
    "#### 3. Fixing Data Types "
   ]
  },
  {
   "cell_type": "code",
   "execution_count": 33,
   "id": "27b8da8f",
   "metadata": {},
   "outputs": [
    {
     "data": {
      "text/plain": [
       "brand                         object\n",
       "model                         object\n",
       "top_speed_kmh                  int64\n",
       "battery_capacity_kWh         float64\n",
       "battery_type                  object\n",
       "number_of_cells              float64\n",
       "torque_nm                    float64\n",
       "efficiency_wh_per_km           int64\n",
       "range_km                       int64\n",
       "acceleration_0_100_s         float64\n",
       "fast_charging_power_kw_dc    float64\n",
       "fast_charge_port              object\n",
       "towing_capacity_kg           float64\n",
       "cargo_volume_l               float64\n",
       "seats                          int64\n",
       "drivetrain                    object\n",
       "segment                       object\n",
       "length_mm                      int64\n",
       "width_mm                       int64\n",
       "height_mm                      int64\n",
       "car_body_type                 object\n",
       "source_url                    object\n",
       "dtype: object"
      ]
     },
     "execution_count": 33,
     "metadata": {},
     "output_type": "execute_result"
    }
   ],
   "source": [
    "df.dtypes"
   ]
  },
  {
   "cell_type": "code",
   "execution_count": 34,
   "id": "b8b60917",
   "metadata": {},
   "outputs": [],
   "source": [
    "# Follwing Columns Should be of type 'category'\n",
    "category_columns = [\n",
    "    'brand', 'battery_type', 'fast_charge_port', 'drivetrain', 'segment', 'car_body_type'\n",
    "]\n",
    "\n",
    "df[category_columns] = df[category_columns].astype('category')\n",
    "\n",
    "# Converting 'string' like text \n",
    "df['model'] = df['model'].astype('string')\n",
    "df['source_url'] = df['source_url'].astype('string')\n",
    "\n",
    "# Convert count-like floats to nullable integers\n",
    "df['number_of_cells'] = df['number_of_cells'].round().astype('Int64')"
   ]
  },
  {
   "cell_type": "code",
   "execution_count": 35,
   "id": "a70c040f",
   "metadata": {},
   "outputs": [
    {
     "data": {
      "text/plain": [
       "brand                              category\n",
       "model                        string[python]\n",
       "top_speed_kmh                         int64\n",
       "battery_capacity_kWh                float64\n",
       "battery_type                       category\n",
       "number_of_cells                       Int64\n",
       "torque_nm                           float64\n",
       "efficiency_wh_per_km                  int64\n",
       "range_km                              int64\n",
       "acceleration_0_100_s                float64\n",
       "fast_charging_power_kw_dc           float64\n",
       "fast_charge_port                   category\n",
       "towing_capacity_kg                  float64\n",
       "cargo_volume_l                      float64\n",
       "seats                                 int64\n",
       "drivetrain                         category\n",
       "segment                            category\n",
       "length_mm                             int64\n",
       "width_mm                              int64\n",
       "height_mm                             int64\n",
       "car_body_type                      category\n",
       "source_url                   string[python]\n",
       "dtype: object"
      ]
     },
     "execution_count": 35,
     "metadata": {},
     "output_type": "execute_result"
    }
   ],
   "source": [
    "df.dtypes"
   ]
  },
  {
   "cell_type": "markdown",
   "id": "4d5d397f",
   "metadata": {},
   "source": [
    "#### 4. Standardize Text Columns"
   ]
  },
  {
   "cell_type": "code",
   "execution_count": 36,
   "id": "8ca99cab",
   "metadata": {},
   "outputs": [],
   "source": [
    "text_columns = [\n",
    "    'brand', 'model', 'battery_type',\n",
    "    'fast_charge_port', 'drivetrain',\n",
    "    'segment', 'car_body_type'\n",
    "]\n",
    "\n",
    "\n",
    "# Standardize string formatting \n",
    "for col in text_columns:\n",
    "    previous_dtype = df[col].dtype\n",
    "    df[col] = df[col].astype('string').str.strip().str.lower().replace('Nan', pd.NA)\n",
    "    df[col] = df[col].astype(previous_dtype)"
   ]
  },
  {
   "cell_type": "code",
   "execution_count": 37,
   "id": "ccf63baf",
   "metadata": {},
   "outputs": [
    {
     "name": "stdout",
     "output_type": "stream",
     "text": [
      "Unique values in 'brand': [nan]\n",
      "Unique values in 'model': ['500e convertible', '500e hatchback', '600e scorpionissima', '600e turismo', 'u5', 'u6', 'romeo junior elettrica 54 kwh', 'romeo junior elettrica 54 kwh veloce', 'a290 electric 180 hp', 'a290 electric 220 hp', 'a6 avant e-tron', 'a6 avant e-tron performance', 'a6 avant e-tron quattro', 'a6 sportback e-tron', 'a6 sportback e-tron performance', 'a6 sportback e-tron quattro', 'q4 sportback e-tron 40', 'q4 sportback e-tron 45', 'q4 sportback e-tron 45 quattro', 'q4 sportback e-tron 55 quattro', 'q4 e-tron 40', 'q4 e-tron 45', 'q4 e-tron 45 quattro', 'q4 e-tron 55 quattro', 'q6 e-tron', 'q6 e-tron sportback', 'q6 e-tron sportback performance', 'q6 e-tron sportback quattro', 'q6 e-tron performance', 'q6 e-tron quattro', 's6 avant e-tron', 's6 sportback e-tron', 'sq6 e-tron', 'sq6 e-tron sportback', 'e-tron gt rs', 'e-tron gt rs performance', 'e-tron gt s', 'e-tron gt quattro', 'i4 m50', 'i4 edrive35', 'i4 edrive40', 'i4 xdrive40', 'i5 m60 xdrive sedan (my25)', 'i5 m60 xdrive touring (my25)', 'i5 edrive40 sedan (my25)', 'i5 edrive40 touring (my25)', 'i5 xdrive40 sedan (my25)', 'i5 xdrive40 touring (my25)', 'i7 m70 xdrive', 'i7 edrive50', 'i7 xdrive60', 'ix m70 xdrive', 'ix xdrive45', 'ix xdrive60', 'ix1 edrive20', 'ix1 xdrive30', 'ix2 edrive20', 'ix2 xdrive30', 'atto 2', 'atto 3 (my25)', 'dolphin 44.9 kwh active', 'dolphin 44.9 kwh boost', 'dolphin 60.4 kwh', 'dolphin surf 30 kwh active', 'dolphin surf 43.2 kwh boost', 'dolphin surf 43.2 kwh comfort', 'seal 61.4 kwh rwd comfort', 'seal 82.5 kwh awd excellence', 'seal 82.5 kwh rwd design', 'seal u 71.8 kwh comfort', 'seal u 87 kwh design', 'sealion 7 82.5 kwh awd design', 'sealion 7 82.5 kwh rwd comfort', 'sealion 7 91.3 kwh awd excellence', 'tang flagship', 'born 170 kw - 59 kwh', 'born 170 kw - 77 kwh', 'born vz', 'tavascan endurance', 'tavascan vz', 'lyriq 600 e4', 'e-berlingo m 50 kwh', 'e-berlingo xl 50 kwh', 'e-c3', 'e-c3 aircross', 'e-c4', 'e-c4 54 kwh', 'e-c4 x', 'e-c4 x 54 kwh', 'e-spacetourer m 50 kwh', 'e-spacetourer m 75 kwh', 'e-spacetourer xl 50 kwh', 'e-spacetourer xl 75 kwh', '3 e-tense', 'n°4 e-tense', 'n°8 awd long range', 'n°8 fwd', 'n°8 fwd long range', 'spring electric 45', 'spring electric 65', 'box 31.4 kwh', 'box 42.3 kwh', 'beo 86 kwh', '500e 3+1 24 kwh', '500e 3+1 42 kwh', '500e cabrio 24 kwh', '500e cabrio 42 kwh', '500e hatchback 24 kwh', '500e hatchback 42 kwh', '600e', 'grande panda', 'capri extended range awd', 'capri extended range rwd', 'capri standard range rwd', 'explorer extended range awd', 'explorer extended range rwd', 'explorer standard range rwd', 'mustang mach-e er awd (my25)', 'mustang mach-e er awd (my24)', 'mustang mach-e er rwd (my25)', 'mustang mach-e er rwd (my24)', 'mustang mach-e gt (my24)', 'mustang mach-e gt (my25)', 'mustang mach-e rally (my25)', 'mustang mach-e rally (my24)', 'mustang mach-e sr rwd (my24)', 'mustang mach-e sr rwd (my25)', 'puma gen-e', 'e-tourneo courier', 'e-tourneo custom l1 160 kw', 'e-tourneo custom l1 210 kw', 'e-tourneo custom l2 160 kw', 'e-tourneo custom l2 210 kw', 'ora 03 48 kwh', 'ora 03 63 kwh', 'ora 03 gt', 'ora 07 gt', 'ora 07 pro', 'ora 07 pure', 'g80 electrified luxury', 'gv60 premium', 'gv60 sport', 'gv60 sport plus', 'gv70 electrified sport', 'e:ny1', 'e-hs9 120 kwh', 'e-hs9 84 kwh', 'e-hs9 99 kwh', 'inster long range', 'inster standard range', 'ioniq 5 63 kwh rwd (my24)', 'ioniq 5 84 kwh awd (my24)', 'ioniq 5 84 kwh rwd (my24)', 'ioniq 5 n (my24)', 'ioniq 6 long range 2wd', 'ioniq 6 long range awd', 'ioniq 6 standard range 2wd', 'ioniq 9 long range awd', 'ioniq 9 long range rwd', 'ioniq 9 performance awd', 'kona electric 48 kwh', 'kona electric 65 kwh', 'i-pace ev400', 'avenger electric', 'compass electric 74 kwh', 'torres evx', 'ev3 long range', 'ev3 standard range', 'ev4 hatchback long range', 'ev4 hatchback standard range', 'ev4 sedan long range', 'ev4 sedan standard range', 'ev6 gt', 'ev6 long range 2wd', 'ev6 long range awd', 'ev6 standard range 2wd', 'ev9 76.1 kwh rwd', 'ev9 99.8 kwh awd', 'ev9 99.8 kwh awd gt', 'ev9 99.8 kwh awd gt-line', 'ev9 99.8 kwh rwd', 'niro ev', 'ypsilon', 'c10', 't03', 'rz 300e', 'rz 450e', 'ux 300e', 'eletre', 'eletre r', 'eletre s', 'emeya', 'emeya r', 'emeya s', 'air grand touring', 'air pure rwd', 'air touring', '02', 'cyberster gt', 'cyberster trophy', '4 electric 51 kwh', '4 electric 64 kwh', '4 electric 77 kwh', '4 electric xpower', '5 electric long range', '5 electric standard range', 's5  ev 49 kwh', 's5  ev 64 kwh', 'zs ev long range', 'zs ev standard range', 'grancabrio folgore', 'granturismo folgore', 'grecale folgore', 'mifa 9', '6e 68.8 kwh', '6e long range 80 kwh', 'cla 250+', 'cla 350 4matic', 'eqa 250', 'eqa 250+', 'eqa 300 4matic', 'eqa 350 4matic', 'eqb 250+', 'eqb 300 4matic', 'eqb 350 4matic', 'eqe 300', 'eqe 350 4matic', 'eqe 350+', 'eqe 500 4matic', 'eqe amg 43 4matic', 'eqe amg 53 4matic+', 'eqe suv 300', 'eqe suv 350 4matic', 'eqe suv 350+', 'eqe suv 500 4matic', 'eqe suv amg 43 4matic', 'eqe suv amg 53 4matic+', 'eqs 350', 'eqs 450 4matic', 'eqs 450+', 'eqs 500 4matic', 'eqs 580 4matic', 'eqs amg 53 4matic+', 'eqs suv 450 4matic', 'eqs suv 450+', 'eqs suv 500 4matic', 'eqs suv 580 4matic', 'eqs suv maybach 680', 'eqt 200 long', 'eqt 200 standard', 'eqv 250 extra-long', 'eqv 250 long', 'eqv 300 extra-long', 'eqv 300 long', 'g 580', 'evito tourer extra-long 60 kwh', 'evito tourer long 60 kwh', 'evito tourer long 90 kwh', 'aceman e', 'aceman jcw', 'aceman se', 'cooper e', 'cooper jcw', 'cooper se', 'countryman e', 'countryman se all4', 'el6 long range', 'el6 standard range', 'el7 long range', 'el7 standard range', 'el8 long range', 'el8 standard range', 'et5 long range', 'et5 standard range', 'et5 touring long range', 'et5 touring standard range', 'et7 long range', 'et7 standard range', 'ariya 63kwh', 'ariya 87kwh', 'ariya e-4orce 87kwh - 225 kw', 'ariya e-4orce 87kwh - 320 kw nismo', 'townstar ev passenger', 'townstar ev passenger l2', 'e5', 'astra electric', 'astra sports tourer electric', 'combo-e life 50 kwh', 'combo-e life xl 50 kwh', 'corsa electric 50 kwh', 'corsa electric 51 kwh', 'frontera 44 kwh', 'grandland 73 kwh', 'grandland 82 kwh', 'mokka electric', 'zafira-e life l2 50 kwh', 'zafira-e life l2 75 kwh', 'zafira-e life l3 50 kwh', 'zafira-e life l3 75 kwh', 'e-2008 50 kwh', 'e-2008 54 kwh', 'e-208 50 kwh', 'e-208 51 kwh', 'e-3008 73 kwh', 'e-3008 73 kwh dual motor', 'e-3008 97 kwh long range', 'e-308', 'e-308 sw', 'e-408 58 kwh', 'e-5008 73 kwh', 'e-5008 73 kwh dual motor', 'e-5008 97 kwh long range', 'e-rifter m 50 kwh', 'e-rifter xl 50 kwh', 'e-traveller l2 50 kwh', 'e-traveller l2 75 kwh', 'e-traveller l3 50 kwh', 'e-traveller l3 75 kwh', '2 long range dual motor (my26)', '2 long range performance (my26)', '2 long range single motor (my26)', '2 standard range single motor (my26)', '3 long range dual motor', '3 long range performance', '3 long range single motor', '4 long range dual motor', '4 long range single motor', 'macan 4 electric', 'macan 4s electric', 'macan electric', 'macan turbo electric', 'taycan', 'taycan 4', 'taycan 4 cross turismo', 'taycan 4 plus', 'taycan 4s', 'taycan 4s cross turismo', 'taycan 4s plus', 'taycan 4s plus sport turismo', 'taycan 4s sport turismo', 'taycan gts', 'taycan gts sport turismo', 'taycan plus', 'taycan plus sport turismo', 'taycan sport turismo', 'taycan turbo', 'taycan turbo cross turismo', 'taycan turbo gt', 'taycan turbo gt weissach', 'taycan turbo s', 'taycan turbo s cross turismo', 'taycan turbo s sport turismo', 'taycan turbo sport turismo', '4 e-tech 40kwh 120hp', '4 e-tech 52kwh 150hp', '5 e-tech 40kwh 120hp', '5 e-tech 40kwh 95hp', '5 e-tech 52kwh 150hp', 'kangoo e-tech electric', 'kangoo grand e-tech electric', 'megane e-tech ev60 130hp (tu2025)', 'megane e-tech ev60 220hp (tu2025)', 'scenic e-tech ev60 170hp', 'scenic e-tech ev87 220hp', 'spectre', 'elroq 50', 'elroq 60', 'elroq 85', 'elroq rs', 'enyaq 60', 'enyaq 85', 'enyaq 85x', 'enyaq coupe 60', 'enyaq coupe 85', 'enyaq coupe 85x', 'enyaq coupe rs', 'enyaq rs', 'be11 long range', 'be11 standard range', '#1 brabus', '#1 premium', '#1 pro', '#1 pro+', '#1 pulse', '#1 pure', '#1 pure+', '#3 brabus', '#3 premium', '#3 pro', '#3 pro+', '#5 brabus', '#5 premium', '#5 pro', '#5 pro+', '#5 pulse', '#5 summit edition', 'solterra awd', 'model 3 long range awd (highland)', 'model 3 long range rwd (highland)', 'model 3 performance (highland)', 'model 3 rwd (highland catl lfp64)', 'model s dual motor', 'model s plaid', 'model x dual motor', 'model x plaid', 'model y long range awd (juniper)', 'model y long range rwd (juniper)', 'model y rwd (juniper)', 'proace verso l 75 kwh', 'proace verso m 50 kwh', 'proace verso m 75 kwh', 'proace city verso electric l1 50 kwh', 'proace city verso electric l2 50 kwh', 'bz4x awd', 'bz4x fwd', 'vf 8 eco extended range', 'vf 8 plus extended range', 'id. buzz lwb gtx', 'id. buzz lwb pro', 'id. buzz nwb gtx', 'id. buzz nwb pro', 'id. buzz nwb pure', 'id.3 gtx', 'id.3 gtx performance', 'id.3 pro', 'id.3 pro s', 'id.3 pure', 'id.4 gtx', 'id.4 pro', 'id.4 pro 4motion', 'id.4 pure', 'id.5 gtx', 'id.5 pro', 'id.5 pure', 'id.7 gtx', 'id.7 pro', 'id.7 pro s', 'id.7 tourer gtx', 'id.7 tourer pro', 'id.7 tourer pro s', 'ec40 single motor (my26)', 'ec40 single motor er (my26)', 'ec40 twin motor (my26)', 'ec40 twin motor performance (my26)', 'es90 single motor (my26)', 'es90 twin motor (my26)', 'es90 twin motor performance (my26)', 'ex30 cross country (my26)', 'ex30 single motor (my24-26)', 'ex30 single motor er (my24-26)', 'ex30 twin motor performance (my24-26)', 'ex40 single motor (my26)', 'ex40 single motor er (my26)', 'ex40 twin motor (my26)', 'ex40 twin motor performance (my26)', 'ex90 single motor (my24-26)', 'ex90 twin motor (my24-26)', 'ex90 twin motor performance (my24-26)', 'free 106 kwh', 'g6 awd performance', 'g6 rwd long range', 'g6 rwd standard range', 'g9 awd performance', 'g9 rwd long range', 'g9 rwd standard range', 'p7 awd performance', 'p7 rwd long range', 'p7 wing edition', '001 long range rwd', '001 performance awd', '001 privilege awd', '7x long range rwd', '7x performance awd', '7x premium rwd', 'x core rwd (my25)', 'x long range rwd (my25)', 'x privilege awd (my25)']\n",
      "Unique values in 'battery_type': [nan]\n",
      "Unique values in 'fast_charge_port': [nan]\n",
      "Unique values in 'drivetrain': [nan]\n",
      "Unique values in 'segment': [nan]\n",
      "Unique values in 'car_body_type': [nan]\n"
     ]
    }
   ],
   "source": [
    "# checking if any column has inconsistent values\n",
    "for col in text_columns:\n",
    "    print(f\"Unique values in '{col}': {df[col].unique().tolist()}\")"
   ]
  }
 ],
 "metadata": {
  "kernelspec": {
   "display_name": ".venv",
   "language": "python",
   "name": "python3"
  },
  "language_info": {
   "codemirror_mode": {
    "name": "ipython",
    "version": 3
   },
   "file_extension": ".py",
   "mimetype": "text/x-python",
   "name": "python",
   "nbconvert_exporter": "python",
   "pygments_lexer": "ipython3",
   "version": "3.11.0"
  }
 },
 "nbformat": 4,
 "nbformat_minor": 5
}
